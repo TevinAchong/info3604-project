{
  "nbformat": 4,
  "nbformat_minor": 0,
  "metadata": {
    "colab": {
      "name": "classifier.ipynb",
      "provenance": [],
      "collapsed_sections": []
    },
    "kernelspec": {
      "name": "python3",
      "display_name": "Python 3"
    }
  },
  "cells": [
    {
      "cell_type": "code",
      "metadata": {
        "id": "v3Ke1wsAD0af",
        "colab_type": "code",
        "colab": {}
      },
      "source": [
        "%tensorflow_version 1.x"
      ],
      "execution_count": 0,
      "outputs": []
    },
    {
      "cell_type": "code",
      "metadata": {
        "id": "nwpRcblyDqoK",
        "colab_type": "code",
        "colab": {
          "base_uri": "https://localhost:8080/",
          "height": 35
        },
        "outputId": "677fae9d-cdf6-4867-fe07-640ed5e6551a"
      },
      "source": [
        "import tensorflow as tf\n",
        "print(tf.__version__)"
      ],
      "execution_count": 2,
      "outputs": [
        {
          "output_type": "stream",
          "text": [
            "1.15.0\n"
          ],
          "name": "stdout"
        }
      ]
    },
    {
      "cell_type": "code",
      "metadata": {
        "id": "KiueRzjEIYL6",
        "colab_type": "code",
        "colab": {
          "base_uri": "https://localhost:8080/",
          "height": 107
        },
        "outputId": "0db24efc-bdfe-4228-fdc8-d60b35df6b33"
      },
      "source": [
        "# Cloning BERT git repo\n",
        "!git clone https://github.com/google-research/bert.git\n",
        "!mv bert bert-master"
      ],
      "execution_count": 3,
      "outputs": [
        {
          "output_type": "stream",
          "text": [
            "Cloning into 'bert'...\n",
            "remote: Enumerating objects: 336, done.\u001b[K\n",
            "remote: Total 336 (delta 0), reused 0 (delta 0), pack-reused 336\u001b[K\n",
            "Receiving objects: 100% (336/336), 290.24 KiB | 526.00 KiB/s, done.\n",
            "Resolving deltas: 100% (184/184), done.\n"
          ],
          "name": "stdout"
        }
      ]
    },
    {
      "cell_type": "code",
      "metadata": {
        "id": "wejnTnwQE9OU",
        "colab_type": "code",
        "colab": {
          "base_uri": "https://localhost:8080/",
          "height": 215
        },
        "outputId": "7f751f40-34a6-4d36-8ff1-3c6b12606e84"
      },
      "source": [
        "# Downloading BERT-Base, Cased Model\n",
        "!wget https://storage.googleapis.com/bert_models/2018_10_18/cased_L-12_H-768_A-12.zip -O cased.zip"
      ],
      "execution_count": 4,
      "outputs": [
        {
          "output_type": "stream",
          "text": [
            "--2020-01-27 17:54:13--  https://storage.googleapis.com/bert_models/2018_10_18/cased_L-12_H-768_A-12.zip\n",
            "Resolving storage.googleapis.com (storage.googleapis.com)... 64.233.189.128, 2404:6800:4008:c00::80\n",
            "Connecting to storage.googleapis.com (storage.googleapis.com)|64.233.189.128|:443... connected.\n",
            "HTTP request sent, awaiting response... 200 OK\n",
            "Length: 404261442 (386M) [application/zip]\n",
            "Saving to: ‘cased.zip’\n",
            "\n",
            "cased.zip           100%[===================>] 385.53M  45.8MB/s    in 8.4s    \n",
            "\n",
            "2020-01-27 17:54:22 (45.8 MB/s) - ‘cased.zip’ saved [404261442/404261442]\n",
            "\n"
          ],
          "name": "stdout"
        }
      ]
    },
    {
      "cell_type": "code",
      "metadata": {
        "id": "n95Usiu-GCap",
        "colab_type": "code",
        "colab": {
          "base_uri": "https://localhost:8080/",
          "height": 161
        },
        "outputId": "61d83c86-311d-43f3-b3e5-d4d6737f216c"
      },
      "source": [
        "# Unzipping the downloaded folder and placing it into root/model\n",
        "!mkdir model/\n",
        "!unzip cased.zip -d model/\n",
        "!rm cased.zip\n",
        "!cd model/cased_L-12_H-768_A-12 && mv * .. && cd .. && rm -r cased_L-12_H-768_A-12\n",
        "\n",
        "# Moving the model folder into root/bert-master\n",
        "!mv model bert-master"
      ],
      "execution_count": 5,
      "outputs": [
        {
          "output_type": "stream",
          "text": [
            "mkdir: cannot create directory ‘model/’: File exists\n",
            "Archive:  cased.zip\n",
            "   creating: model/cased_L-12_H-768_A-12/\n",
            "  inflating: model/cased_L-12_H-768_A-12/bert_model.ckpt.meta  \n",
            "  inflating: model/cased_L-12_H-768_A-12/bert_model.ckpt.data-00000-of-00001  \n",
            "  inflating: model/cased_L-12_H-768_A-12/vocab.txt  \n",
            "  inflating: model/cased_L-12_H-768_A-12/bert_model.ckpt.index  \n",
            "  inflating: model/cased_L-12_H-768_A-12/bert_config.json  \n"
          ],
          "name": "stdout"
        }
      ]
    },
    {
      "cell_type": "code",
      "metadata": {
        "id": "g1dCxNTrH3Gw",
        "colab_type": "code",
        "colab": {}
      },
      "source": [
        "######################################################################################################\n",
        "# We need to ensure we have the data in the following format before any of the code below can be run:\n",
        "#   root/\n",
        "#     data/\n",
        "#       train.csv\n",
        "#       test.csv\n",
        "######################################################################################################"
      ],
      "execution_count": 0,
      "outputs": []
    },
    {
      "cell_type": "code",
      "metadata": {
        "id": "8ILA5G6WGRks",
        "colab_type": "code",
        "colab": {}
      },
      "source": [
        "# # If needed:\n",
        "# !pip3 install pandas, sklearn\n",
        "\n",
        "import pandas as pd\n",
        "from sklearn.model_selection import train_test_split\n",
        "\n",
        "# Read data from csv file\n",
        "train_set = pd.read_csv('data/train.csv')\n",
        "test_set = pd.read_csv('data/test.csv')\n",
        "\n",
        "# Create new dataframes in the format required by BERT\n",
        "df_bert = pd.DataFrame({'guid': train_set['id'],\n",
        "                        'label': train_set['label'],\n",
        "                        'alpha': ['a'] * train_set.shape[0],\n",
        "                        'text': train_set['text']})\n",
        "\n",
        "#### NEED TO STOP HERE BECAUSE WE DON't YET KNOW THE FORMAT OF THE DATA"
      ],
      "execution_count": 0,
      "outputs": []
    }
  ]
}