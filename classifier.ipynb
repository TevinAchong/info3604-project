{
 "cells": [
  {
   "cell_type": "code",
   "execution_count": 0,
   "metadata": {
    "colab": {},
    "colab_type": "code",
    "id": "v3Ke1wsAD0af"
   },
   "outputs": [],
   "source": [
    "%tensorflow_version 1.x"
   ]
  },
  {
   "cell_type": "code",
   "execution_count": 2,
   "metadata": {
    "colab": {
     "base_uri": "https://localhost:8080/",
     "height": 35
    },
    "colab_type": "code",
    "id": "nwpRcblyDqoK",
    "outputId": "acb98ad5-8249-4a68-892f-8b258fc40fed"
   },
   "outputs": [
    {
     "name": "stdout",
     "output_type": "stream",
     "text": [
      "1.15.0\n"
     ]
    }
   ],
   "source": [
    "import tensorflow as tf\n",
    "print(tf.__version__)"
   ]
  },
  {
   "cell_type": "code",
   "execution_count": 3,
   "metadata": {
    "colab": {
     "base_uri": "https://localhost:8080/",
     "height": 109
    },
    "colab_type": "code",
    "id": "KiueRzjEIYL6",
    "outputId": "109798ef-e70b-4b07-b01e-40913c9df990"
   },
   "outputs": [
    {
     "name": "stdout",
     "output_type": "stream",
     "text": [
      "Cloning into 'bert'...\n",
      "remote: Enumerating objects: 340, done.\u001b[K\n",
      "remote: Total 340 (delta 0), reused 0 (delta 0), pack-reused 340\u001b[K\n",
      "Receiving objects: 100% (340/340), 300.28 KiB | 17.66 MiB/s, done.\n",
      "Resolving deltas: 100% (185/185), done.\n"
     ]
    }
   ],
   "source": [
    "# Cloning BERT git repo\n",
    "!git clone https://github.com/google-research/bert.git\n",
    "!mv bert bert-master"
   ]
  },
  {
   "cell_type": "code",
   "execution_count": 4,
   "metadata": {
    "colab": {
     "base_uri": "https://localhost:8080/",
     "height": 219
    },
    "colab_type": "code",
    "id": "wejnTnwQE9OU",
    "outputId": "a1f86e7f-1c3c-402c-a471-ca0f6eb3de34"
   },
   "outputs": [
    {
     "name": "stdout",
     "output_type": "stream",
     "text": [
      "--2020-03-19 18:16:49--  https://storage.googleapis.com/bert_models/2018_10_18/cased_L-12_H-768_A-12.zip\n",
      "Resolving storage.googleapis.com (storage.googleapis.com)... 172.217.8.16, 2607:f8b0:4004:807::2010\n",
      "Connecting to storage.googleapis.com (storage.googleapis.com)|172.217.8.16|:443... connected.\n",
      "HTTP request sent, awaiting response... 200 OK\n",
      "Length: 404261442 (386M) [application/zip]\n",
      "Saving to: ‘cased.zip’\n",
      "\n",
      "cased.zip           100%[===================>] 385.53M   142MB/s    in 2.7s    \n",
      "\n",
      "2020-03-19 18:16:52 (142 MB/s) - ‘cased.zip’ saved [404261442/404261442]\n",
      "\n"
     ]
    }
   ],
   "source": [
    "# Downloading BERT-Base, Cased Model\n",
    "!wget https://storage.googleapis.com/bert_models/2018_10_18/cased_L-12_H-768_A-12.zip -O cased.zip"
   ]
  },
  {
   "cell_type": "code",
   "execution_count": 5,
   "metadata": {
    "colab": {
     "base_uri": "https://localhost:8080/",
     "height": 146
    },
    "colab_type": "code",
    "id": "n95Usiu-GCap",
    "outputId": "35db46ba-f30d-487b-8f8a-74301f3b8ee1"
   },
   "outputs": [
    {
     "name": "stdout",
     "output_type": "stream",
     "text": [
      "Archive:  cased.zip\n",
      "   creating: model/cased_L-12_H-768_A-12/\n",
      "  inflating: model/cased_L-12_H-768_A-12/bert_model.ckpt.meta  \n",
      "  inflating: model/cased_L-12_H-768_A-12/bert_model.ckpt.data-00000-of-00001  \n",
      "  inflating: model/cased_L-12_H-768_A-12/vocab.txt  \n",
      "  inflating: model/cased_L-12_H-768_A-12/bert_model.ckpt.index  \n",
      "  inflating: model/cased_L-12_H-768_A-12/bert_config.json  \n"
     ]
    }
   ],
   "source": [
    "# Unzipping the downloaded folder and placing it into root/model\n",
    "!mkdir model/\n",
    "!unzip cased.zip -d model/\n",
    "!rm cased.zip\n",
    "!cd model/cased_L-12_H-768_A-12 && mv * .. && cd .. && rm -r cased_L-12_H-768_A-12\n",
    "\n",
    "# Moving the model folder into root/bert-master\n",
    "!mv model bert-master"
   ]
  },
  {
   "cell_type": "code",
   "execution_count": 7,
   "metadata": {
    "colab": {
     "base_uri": "https://localhost:8080/",
     "height": 72
    },
    "colab_type": "code",
    "id": "g1dCxNTrH3Gw",
    "outputId": "bb7c427b-e941-43a2-b293-f0247f89c515"
   },
   "outputs": [
    {
     "name": "stdout",
     "output_type": "stream",
     "text": [
      "mkdir: cannot create directory ‘dataset’: File exists\n",
      "mv: cannot stat 'imdb_train.csv': No such file or directory\n",
      "mv: cannot stat 'imdb_test.csv': No such file or directory\n"
     ]
    }
   ],
   "source": [
    "## MAKE SURE YOUR CSV FILES TO THE ROOT THEN RUN THIS CELL!!!!!!!!!\n",
    "!mkdir dataset\n",
    "!mv imdb_train.csv dataset/\n",
    "!mv imdb_test.csv dataset/"
   ]
  },
  {
   "cell_type": "code",
   "execution_count": 8,
   "metadata": {
    "colab": {
     "base_uri": "https://localhost:8080/",
     "height": 256
    },
    "colab_type": "code",
    "id": "8ILA5G6WGRks",
    "outputId": "f79e0ac5-d898-49a1-cd77-ef97e3602d7b"
   },
   "outputs": [
    {
     "name": "stdout",
     "output_type": "stream",
     "text": [
      "        guid  label alpha                                               text\n",
      "35537  35537      0     a  I saw this director's \"Woman On The Beach\" and...\n",
      "2305    2305      1     a  'Shock Corridor (1963)' was my first film from...\n",
      "33760  33760      0     a  After Chaplin made one of his best films: Doug...\n",
      "1437    1437      0     a  One of those classics, held up next to \"Deep T...\n",
      "33292  33292      1     a  The Lion King 1 1/2 is a very cute story to go...\n",
      "----------------------------------------------------------------------------------------------------\n",
      "   guid                                               text\n",
      "0     0  One of the other reviewers has mentioned that ...\n",
      "1     1  A wonderful little production. <br /><br />The...\n",
      "2     2  I thought this was a wonderful way to spend ti...\n",
      "3     3  Basically there's a family where a little boy ...\n",
      "4     4  Petter Mattei's \"Love in the Time of Money\" is...\n"
     ]
    }
   ],
   "source": [
    "# # If needed:\n",
    "# !pip3 install pandas, sklearn\n",
    "\n",
    "import pandas as pd\n",
    "from sklearn.model_selection import train_test_split\n",
    "\n",
    "# Read data from csv file\n",
    "df_train = pd.read_csv('dataset/imdb_train.csv')\n",
    "df_test = pd.read_csv('dataset/imdb_test.csv')\n",
    "\n",
    "# Creating the unique identifiers for the dataset\n",
    "ids = []\n",
    "for i in range(len(df_train)):\n",
    "  ids.append(i)\n",
    "pd_ids = pd.DataFrame(ids)\n",
    "df_train.insert(0, \"id\", pd_ids)\n",
    "# Converting sentiments from \"positive\" and \"negative\" to 1 and 0\n",
    "df_train['sentiment'] = df_train['sentiment'].map({'positive': 1, 'negative': 0})\n",
    "\n",
    "# Repeating the above processes for the test set\n",
    "idx = []\n",
    "for i in range(len(df_test)):\n",
    "  idx.append(i)\n",
    "pd_idx = pd.DataFrame(idx)\n",
    "df_test.insert(0, \"id\", pd_idx)\n",
    "df_test['sentiment'] = df_test['sentiment'].map({'positive': 1, 'negative': 0})\n",
    "\n",
    "# # Create new dataframes in the format required by BERT for train, dev data\n",
    "df_bert = pd.DataFrame({'guid': df_train['id'],\n",
    "                        'label': df_train['sentiment'],\n",
    "                        'alpha': ['a'] * df_train.shape[0],\n",
    "                        'text': df_train['review']})\n",
    "\n",
    "# Split into test, dev\n",
    "df_bert_train, df_bert_dev = train_test_split(df_bert, test_size=0.01)\n",
    "\n",
    "# Create new dataframe for test data\n",
    "df_bert_test = pd.DataFrame({'guid': df_test['id'],\n",
    "                             'text': df_test['review']})\n",
    "\n",
    "# Output tsv file, no header for train and dev\n",
    "!mkdir bert-master/dataset\n",
    "df_bert_train.to_csv('bert-master/dataset/train.tsv', sep='\\t', index=False, header=False)\n",
    "df_bert_dev.to_csv('bert-master/dataset/dev.tsv', sep='\\t', index=False, header=False)\n",
    "df_bert_test.to_csv('bert-master/dataset/test.tsv', sep='\\t', index=False, header=True)\n",
    "\n",
    "print(df_bert_train.head())\n",
    "print(\"-\" * 100)\n",
    "print(df_bert_test.head())"
   ]
  },
  {
   "cell_type": "code",
   "execution_count": 9,
   "metadata": {
    "colab": {
     "base_uri": "https://localhost:8080/",
     "height": 329
    },
    "colab_type": "code",
    "id": "eRTHJNB8P2_i",
    "outputId": "7011a3f8-afe6-4cd1-8fcb-be92d75e5ac4"
   },
   "outputs": [
    {
     "name": "stdout",
     "output_type": "stream",
     "text": [
      "Thu Mar 19 18:19:02 2020       \n",
      "+-----------------------------------------------------------------------------+\n",
      "| NVIDIA-SMI 440.64.00    Driver Version: 418.67       CUDA Version: 10.1     |\n",
      "|-------------------------------+----------------------+----------------------+\n",
      "| GPU  Name        Persistence-M| Bus-Id        Disp.A | Volatile Uncorr. ECC |\n",
      "| Fan  Temp  Perf  Pwr:Usage/Cap|         Memory-Usage | GPU-Util  Compute M. |\n",
      "|===============================+======================+======================|\n",
      "|   0  Tesla P4            Off  | 00000000:00:04.0 Off |                    0 |\n",
      "| N/A   33C    P8     7W /  75W |      0MiB /  7611MiB |      0%      Default |\n",
      "+-------------------------------+----------------------+----------------------+\n",
      "                                                                               \n",
      "+-----------------------------------------------------------------------------+\n",
      "| Processes:                                                       GPU Memory |\n",
      "|  GPU       PID   Type   Process name                             Usage      |\n",
      "|=============================================================================|\n",
      "|  No running processes found                                                 |\n",
      "+-----------------------------------------------------------------------------+\n"
     ]
    }
   ],
   "source": [
    "!nvidia-smi"
   ]
  },
  {
   "cell_type": "code",
   "execution_count": 11,
   "metadata": {
    "colab": {
     "base_uri": "https://localhost:8080/",
     "height": 1000
    },
    "colab_type": "code",
    "id": "38P0D8pSavt0",
    "outputId": "54268daf-da7e-4dfa-8d23-f064cc98be0e"
   },
   "outputs": [
    {
     "name": "stdout",
     "output_type": "stream",
     "text": [
      "WARNING:tensorflow:From /tensorflow-1.15.0/python3.6/tensorflow_core/python/ops/math_grad.py:1375: where (from tensorflow.python.ops.array_ops) is deprecated and will be removed in a future version.\n",
      "Instructions for updating:\n",
      "Use tf.where in 2.0, which has the same broadcast rule as np.where\n",
      "W0319 18:22:28.860811 139641452205952 deprecation.py:323] From /tensorflow-1.15.0/python3.6/tensorflow_core/python/ops/math_grad.py:1375: where (from tensorflow.python.ops.array_ops) is deprecated and will be removed in a future version.\n",
      "Instructions for updating:\n",
      "Use tf.where in 2.0, which has the same broadcast rule as np.where\n",
      "INFO:tensorflow:training_loop marked as finished\n",
      "I0319 18:22:33.524011 139641452205952 error_handling.py:101] training_loop marked as finished\n",
      "Traceback (most recent call last):\n",
      "  File \"/tensorflow-1.15.0/python3.6/tensorflow_core/python/framework/ops.py\", line 5628, in init_scope\n",
      "    yield\n",
      "  File \"/tensorflow-1.15.0/python3.6/tensorflow_core/python/ops/variables.py\", line 1818, in _init_from_args\n",
      "    initial_value(), name=\"initial_value\", dtype=dtype)\n",
      "  File \"/tensorflow-1.15.0/python3.6/tensorflow_core/python/ops/variable_scope.py\", line 905, in <lambda>\n",
      "    partition_info=partition_info)\n",
      "  File \"/tensorflow-1.15.0/python3.6/tensorflow_core/python/ops/init_ops.py\", line 114, in __call__\n",
      "    return array_ops.zeros(shape, dtype)\n",
      "  File \"/tensorflow-1.15.0/python3.6/tensorflow_core/python/ops/array_ops.py\", line 2344, in zeros\n",
      "    tensor_shape.TensorShape(shape))\n",
      "  File \"/tensorflow-1.15.0/python3.6/tensorflow_core/python/framework/constant_op.py\", line 321, in _tensor_shape_tensor_conversion_function\n",
      "    return constant(s_list, dtype=dtype, name=name)\n",
      "  File \"/tensorflow-1.15.0/python3.6/tensorflow_core/python/framework/constant_op.py\", line 227, in constant\n",
      "    allow_broadcast=True)\n",
      "  File \"/tensorflow-1.15.0/python3.6/tensorflow_core/python/framework/constant_op.py\", line 271, in _constant_impl\n",
      "    name=name).outputs[0]\n",
      "  File \"/tensorflow-1.15.0/python3.6/tensorflow_core/python/util/deprecation.py\", line 480, in new_func\n",
      "    named_args = tf_inspect.getcallargs(func, *args, **kwargs)\n",
      "  File \"/tensorflow-1.15.0/python3.6/tensorflow_core/python/util/tf_inspect.py\", line 278, in getcallargs\n",
      "    argspec = getfullargspec(func)\n",
      "  File \"/tensorflow-1.15.0/python3.6/tensorflow_core/python/util/tf_inspect.py\", line 257, in getfullargspec\n",
      "    return _getfullargspec(target)\n",
      "  File \"/usr/lib/python3.6/inspect.py\", line 1126, in getfullargspec\n",
      "    sigcls=Signature)\n",
      "KeyboardInterrupt\n",
      "\n",
      "During handling of the above exception, another exception occurred:\n",
      "\n",
      "Traceback (most recent call last):\n",
      "  File \"run_classifier.py\", line 981, in <module>\n",
      "    tf.app.run()\n",
      "  File \"/tensorflow-1.15.0/python3.6/tensorflow_core/python/platform/app.py\", line 40, in run\n",
      "    _run(main=main, argv=argv, flags_parser=_parse_flags_tolerate_undef)\n",
      "  File \"/usr/local/lib/python3.6/dist-packages/absl/app.py\", line 299, in run\n",
      "    _run_main(main, args)\n",
      "  File \"/usr/local/lib/python3.6/dist-packages/absl/app.py\", line 250, in _run_main\n",
      "    sys.exit(main(argv))\n",
      "  File \"run_classifier.py\", line 880, in main\n",
      "    estimator.train(input_fn=train_input_fn, max_steps=num_train_steps)\n",
      "  File \"/tensorflow-1.15.0/python3.6/tensorflow_estimator/python/estimator/tpu/tpu_estimator.py\", line 3030, in train\n",
      "    saving_listeners=saving_listeners)\n",
      "  File \"/tensorflow-1.15.0/python3.6/tensorflow_estimator/python/estimator/estimator.py\", line 370, in train\n",
      "    loss = self._train_model(input_fn, hooks, saving_listeners)\n",
      "  File \"/tensorflow-1.15.0/python3.6/tensorflow_estimator/python/estimator/estimator.py\", line 1161, in _train_model\n",
      "    return self._train_model_default(input_fn, hooks, saving_listeners)\n",
      "  File \"/tensorflow-1.15.0/python3.6/tensorflow_estimator/python/estimator/estimator.py\", line 1191, in _train_model_default\n",
      "    features, labels, ModeKeys.TRAIN, self.config)\n",
      "  File \"/tensorflow-1.15.0/python3.6/tensorflow_estimator/python/estimator/tpu/tpu_estimator.py\", line 2857, in _call_model_fn\n",
      "    config)\n",
      "  File \"/tensorflow-1.15.0/python3.6/tensorflow_estimator/python/estimator/estimator.py\", line 1149, in _call_model_fn\n",
      "    model_fn_results = self._model_fn(features=features, **kwargs)\n",
      "  File \"/tensorflow-1.15.0/python3.6/tensorflow_estimator/python/estimator/tpu/tpu_estimator.py\", line 3126, in _model_fn\n",
      "    features, labels, is_export_mode=is_export_mode)\n",
      "  File \"/tensorflow-1.15.0/python3.6/tensorflow_estimator/python/estimator/tpu/tpu_estimator.py\", line 1663, in call_without_tpu\n",
      "    return self._call_model_fn(features, labels, is_export_mode=is_export_mode)\n",
      "  File \"/tensorflow-1.15.0/python3.6/tensorflow_estimator/python/estimator/tpu/tpu_estimator.py\", line 1994, in _call_model_fn\n",
      "    estimator_spec = self._model_fn(features=features, **kwargs)\n",
      "  File \"run_classifier.py\", line 675, in model_fn\n",
      "    total_loss, learning_rate, num_train_steps, num_warmup_steps, use_tpu)\n",
      "  File \"/content/bert-master/optimization.py\", line 77, in create_optimizer\n",
      "    zip(grads, tvars), global_step=global_step)\n",
      "  File \"/content/bert-master/optimization.py\", line 122, in apply_gradients\n",
      "    initializer=tf.zeros_initializer())\n",
      "  File \"/tensorflow-1.15.0/python3.6/tensorflow_core/python/ops/variable_scope.py\", line 1500, in get_variable\n",
      "    aggregation=aggregation)\n",
      "  File \"/tensorflow-1.15.0/python3.6/tensorflow_core/python/ops/variable_scope.py\", line 1243, in get_variable\n",
      "    aggregation=aggregation)\n",
      "  File \"/tensorflow-1.15.0/python3.6/tensorflow_core/python/ops/variable_scope.py\", line 567, in get_variable\n",
      "    aggregation=aggregation)\n",
      "  File \"/tensorflow-1.15.0/python3.6/tensorflow_core/python/ops/variable_scope.py\", line 519, in _true_getter\n",
      "    aggregation=aggregation)\n",
      "  File \"/tensorflow-1.15.0/python3.6/tensorflow_core/python/ops/variable_scope.py\", line 933, in _get_single_variable\n",
      "    aggregation=aggregation)\n",
      "  File \"/tensorflow-1.15.0/python3.6/tensorflow_core/python/ops/variables.py\", line 258, in __call__\n",
      "    return cls._variable_v1_call(*args, **kwargs)\n",
      "  File \"/tensorflow-1.15.0/python3.6/tensorflow_core/python/ops/variables.py\", line 219, in _variable_v1_call\n",
      "    shape=shape)\n",
      "  File \"/tensorflow-1.15.0/python3.6/tensorflow_core/python/ops/variables.py\", line 197, in <lambda>\n",
      "    previous_getter = lambda **kwargs: default_variable_creator(None, **kwargs)\n",
      "  File \"/tensorflow-1.15.0/python3.6/tensorflow_core/python/ops/variable_scope.py\", line 2519, in default_variable_creator\n",
      "    shape=shape)\n",
      "  File \"/tensorflow-1.15.0/python3.6/tensorflow_core/python/ops/variables.py\", line 262, in __call__\n",
      "    return super(VariableMetaclass, cls).__call__(*args, **kwargs)\n",
      "  File \"/tensorflow-1.15.0/python3.6/tensorflow_core/python/ops/variables.py\", line 1688, in __init__\n",
      "    shape=shape)\n",
      "  File \"/tensorflow-1.15.0/python3.6/tensorflow_core/python/ops/variables.py\", line 1873, in _init_from_args\n",
      "    ops.add_to_collections(collections, self)\n",
      "  File \"/usr/lib/python3.6/contextlib.py\", line 99, in __exit__\n",
      "    self.gen.throw(type, value, traceback)\n",
      "  File \"/tensorflow-1.15.0/python3.6/tensorflow_core/python/framework/ops.py\", line 5628, in init_scope\n",
      "    yield\n",
      "  File \"/tensorflow-1.15.0/python3.6/tensorflow_core/python/framework/ops.py\", line 6352, in __exit__\n",
      "    def __exit__(self, type_arg, value_arg, traceback_arg):\n",
      "KeyboardInterrupt\n"
     ]
    }
   ],
   "source": [
    "!cd bert-master && CUDA_VISIBLE_DEVICES=0 python3 run_classifier.py --task_name=cola --do_train=true --do_eval=true --data_dir=./dataset --vocab_file=./model/vocab.txt --bert_config_file=./model/bert_config.json --init_checkpoint=./model/bert_model.ckpt --max_seq_length=128 --train_batch_size=2 --learning_rate=2e-5 --num_train_epochs=3.0 --output_dir=./bert_output/ --do_lower_case=False --save_checkpoints_steps 1000"
   ]
  },
  {
   "cell_type": "code",
   "execution_count": 0,
   "metadata": {
    "colab": {},
    "colab_type": "code",
    "id": "AoRfD8bzgCOI"
   },
   "outputs": [],
   "source": []
  }
 ],
 "metadata": {
  "accelerator": "GPU",
  "colab": {
   "collapsed_sections": [],
   "name": "classifier.ipynb",
   "provenance": [],
   "toc_visible": true
  },
  "kernelspec": {
   "display_name": "Python 3",
   "language": "python",
   "name": "python3"
  },
  "language_info": {
   "codemirror_mode": {
    "name": "ipython",
    "version": 3
   },
   "file_extension": ".py",
   "mimetype": "text/x-python",
   "name": "python",
   "nbconvert_exporter": "python",
   "pygments_lexer": "ipython3",
   "version": "3.7.4"
  }
 },
 "nbformat": 4,
 "nbformat_minor": 1
}
